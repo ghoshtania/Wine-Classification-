{
 "cells": [
  {
   "cell_type": "code",
   "execution_count": 4,
   "id": "12382824-53f5-4a02-a51f-fc123b574665",
   "metadata": {},
   "outputs": [],
   "source": [
    "# Import libraries\n",
    "\n",
    "# First, let’s import all of the modules, functions and objects we are going to use in this tutorial.\n",
    "\n",
    "# Pandas for data handling\n",
    "import pandas # https://pandas.pydata.org/\n",
    "from pandas.plotting import scatter_matrix\n",
    "\n",
    "# pretty tables\n",
    "from IPython.display import display\n",
    "\n",
    "# NumPy for numerical computing\n",
    "import numpy # https://numpy.org/\n",
    "\n",
    "# MatPlotLib + Seaborn for visualization\n",
    "import matplotlib.pyplot as pl  # https://matplotlib.org/\n",
    "import seaborn as sns   # https://seaborn.pydata.org/\n",
    "\n",
    "# assessment\n",
    "from sklearn import model_selection # for model comparisons\n",
    "from sklearn.model_selection import GridSearchCV\n",
    "from sklearn.metrics import accuracy_score\n",
    "from sklearn.metrics import confusion_matrix\n",
    "from sklearn.metrics import classification_report\n",
    "from sklearn.metrics import cohen_kappa_score\n",
    "\n",
    "# algorithms\n",
    "from sklearn.linear_model import LogisticRegression\n",
    "from sklearn.linear_model import RidgeClassifier\n",
    "from sklearn.neighbors import KNeighborsClassifier"
   ]
  },
  {
   "cell_type": "code",
   "execution_count": 5,
   "id": "f0989ede-0049-4b5d-971c-63648c02a0c4",
   "metadata": {},
   "outputs": [
    {
     "name": "stdout",
     "output_type": "stream",
     "text": [
      "Loading data from file ...\n",
      "done \n",
      "\n",
      "Removing rows with missing data ...\n",
      "done \n",
      "\n"
     ]
    }
   ],
   "source": [
    "print('Loading data from file ...')  # Now let's load the data\n",
    "dataset = pandas.read_csv('BDOShoham.csv') # default is header=infer, change if column names are not in first row\n",
    "print('done \\n')\n",
    "\n",
    "print('Removing rows with missing data ...')  # Make things simple\n",
    "dataset = dataset.dropna()  # default is to drop any row that contains at least one missing value\n",
    "print('done \\n')"
   ]
  },
  {
   "cell_type": "code",
   "execution_count": 6,
   "id": "8e31ce54-20b5-4445-b933-dc5feaa4436a",
   "metadata": {},
   "outputs": [
    {
     "name": "stdout",
     "output_type": "stream",
     "text": [
      "Reading list of problem variables X and Y...\n",
      "done \n",
      "\n"
     ]
    }
   ],
   "source": [
    "# Let's set up a problem: Can we predict 'callSign' using these three features:  'Depth', 'Temperature', 'Salinity' ?\n",
    "\n",
    "print('Reading list of problem variables X and Y...')\n",
    "X_name = [ 'Vsl', 'Vsg', 'Ang' ] # columns to focus on as predictors\n",
    "X = dataset[X_name]   # only keep these columns as features\n",
    "\n",
    "y_name = 'FlowPattern'     # column to focus on as target\n",
    "y = dataset[y_name]   # only keep this column as label \n",
    "print('done \\n')"
   ]
  },
  {
   "cell_type": "code",
   "execution_count": 7,
   "id": "fcce4ada-6359-4a9e-b247-386ced313a88",
   "metadata": {},
   "outputs": [
    {
     "name": "stdout",
     "output_type": "stream",
     "text": [
      "Summary of X - Univariate graphs\n",
      "\n",
      "Histograms:\n"
     ]
    },
    {
     "data": {
      "image/png": "[encoded data removed]",
      "text/plain": [
       "<Figure size 1080x360 with 4 Axes>"
      ]
     },
     "metadata": {
      "needs_background": "light"
     },
     "output_type": "display_data"
    }
   ],
   "source": [
    "%matplotlib inline\n",
    "import matplotlib.pyplot as pl  # https://matplotlib.org/\n",
    "\n",
    "print('Summary of X - Univariate graphs')\n",
    "print()\n",
    "\n",
    "print('Histograms:')\n",
    "X.hist(figsize=(15, 5), bins=75)  # bins ~= sqrt(N)\n",
    "pl.show()\n"
   ]
  },
  {
   "cell_type": "code",
   "execution_count": 8,
   "id": "e8d2afb3-9fe3-4673-8eb8-3998ef9190ae",
   "metadata": {},
   "outputs": [],
   "source": [
    "# Split data into training and testing datasets\n",
    "\n",
    "test_pct = 0.20   # reserve 20% of the data points for testing performance\n",
    "seed = 7          # setting the seed allows for repeatability\n",
    "X_train, X_test, y_train, y_test = model_selection.train_test_split(X, y, test_size=test_pct, random_state=seed)"
   ]
  },
  {
   "cell_type": "code",
   "execution_count": 9,
   "id": "19a6fd36-7a5d-42c3-9bef-91cfdfc63cfb",
   "metadata": {},
   "outputs": [
    {
     "name": "stderr",
     "output_type": "stream",
     "text": [
      "/project/dsi/apps/anaconda3/python-3.7/lib/python3.7/site-packages/sklearn/linear_model/_logistic.py:940: ConvergenceWarning: lbfgs failed to converge (status=1):\n",
      "STOP: TOTAL NO. of ITERATIONS REACHED LIMIT.\n",
      "\n",
      "Increase the number of iterations (max_iter) or scale the data as shown in:\n",
      "    https://scikit-learn.org/stable/modules/preprocessing.html\n",
      "Please also refer to the documentation for alternative solver options:\n",
      "    https://scikit-learn.org/stable/modules/linear_model.html#logistic-regression\n",
      "  extra_warning_msg=_LOGISTIC_SOLVER_CONVERGENCE_MSG)\n"
     ]
    },
    {
     "name": "stdout",
     "output_type": "stream",
     "text": [
      "RESULTS FOR LR\n",
      "Accuracy: 0.652863436123348\n"
     ]
    },
    {
     "data": {
      "image/png": "[encoded data removed]",
      "text/plain": [
       "<Figure size 432x288 with 1 Axes>"
      ]
     },
     "metadata": {
      "needs_background": "light"
     },
     "output_type": "display_data"
    },
    {
     "name": "stderr",
     "output_type": "stream",
     "text": [
      "/project/dsi/apps/anaconda3/python-3.7/lib/python3.7/site-packages/sklearn/metrics/_classification.py:1272: UndefinedMetricWarning: Precision and F-score are ill-defined and being set to 0.0 in labels with no predicted samples. Use `zero_division` parameter to control this behavior.\n",
      "  _warn_prf(average, modifier, msg_start, len(result))\n"
     ]
    },
    {
     "name": "stdout",
     "output_type": "stream",
     "text": [
      "\n",
      " clasification report:\n",
      "               precision    recall  f1-score   support\n",
      "\n",
      "           1       0.83      0.58      0.68       116\n",
      "           2       0.00      0.00      0.00        27\n",
      "           3       0.29      0.12      0.17       184\n",
      "           4       0.72      0.66      0.69       217\n",
      "           5       0.66      0.88      0.75       570\n",
      "           7       0.43      0.29      0.34        21\n",
      "\n",
      "    accuracy                           0.65      1135\n",
      "   macro avg       0.49      0.42      0.44      1135\n",
      "weighted avg       0.61      0.65      0.61      1135\n",
      "\n",
      "Cohen Kappa Score: 0.43167925252458506\n",
      "\n",
      "\n",
      "RESULTS FOR KNN-distance\n",
      "Accuracy: 0.8546255506607929\n"
     ]
    },
    {
     "data": {
      "image/png": "[encoded data removed]",
      "text/plain": [
       "<Figure size 432x288 with 1 Axes>"
      ]
     },
     "metadata": {
      "needs_background": "light"
     },
     "output_type": "display_data"
    },
    {
     "name": "stdout",
     "output_type": "stream",
     "text": [
      "\n",
      " clasification report:\n",
      "               precision    recall  f1-score   support\n",
      "\n",
      "           1       0.74      0.83      0.78       116\n",
      "           2       0.80      0.89      0.84        27\n",
      "           3       0.81      0.86      0.83       184\n",
      "           4       0.84      0.85      0.84       217\n",
      "           5       0.92      0.87      0.90       570\n",
      "           7       0.54      0.62      0.58        21\n",
      "\n",
      "    accuracy                           0.85      1135\n",
      "   macro avg       0.77      0.82      0.80      1135\n",
      "weighted avg       0.86      0.85      0.86      1135\n",
      "\n",
      "Cohen Kappa Score: 0.7878442185779473\n",
      "\n",
      "\n",
      "RESULTS FOR KNN-uniform\n",
      "Accuracy: 0.8405286343612335\n"
     ]
    },
    {
     "data": {
      "image/png": "[encoded data removed]",
      "text/plain": [
       "<Figure size 432x288 with 1 Axes>"
      ]
     },
     "metadata": {
      "needs_background": "light"
     },
     "output_type": "display_data"
    },
    {
     "name": "stdout",
     "output_type": "stream",
     "text": [
      "\n",
      " clasification report:\n",
      "               precision    recall  f1-score   support\n",
      "\n",
      "           1       0.71      0.77      0.74       116\n",
      "           2       0.80      0.89      0.84        27\n",
      "           3       0.77      0.85      0.81       184\n",
      "           4       0.83      0.82      0.83       217\n",
      "           5       0.92      0.86      0.89       570\n",
      "           7       0.54      0.67      0.60        21\n",
      "\n",
      "    accuracy                           0.84      1135\n",
      "   macro avg       0.76      0.81      0.78      1135\n",
      "weighted avg       0.85      0.84      0.84      1135\n",
      "\n",
      "Cohen Kappa Score: 0.7676166667609314\n",
      "\n",
      "\n"
     ]
    }
   ],
   "source": [
    "# Evaluate Some Classification Algorithms\n",
    "\n",
    "# Now it is time to train some models on the data and estimate their accuracy on unseen data.\n",
    "\n",
    "# Algorithms\n",
    "models = []\n",
    "models.append(('LR', LogisticRegression(random_state=seed))) # default=’lbfgs’\n",
    "models.append(('KNN-distance', KNeighborsClassifier(n_neighbors=5, weights='distance'))) # default is n_neighbors=5, weights='uniform'\n",
    "models.append(('KNN-uniform', KNeighborsClassifier(n_neighbors=5, weights='uniform'))) # default is n_neighbors=5, weights='uniform'\n",
    "\n",
    "# evaluate each model in turn\n",
    "results = []\n",
    "names = []\n",
    "for name, modelName in models:   # Select each model in turn\n",
    "    modelName.fit(X_train, y_train)  # train the model on the training data\n",
    "    y_predicted = modelName.predict(X_test)  # make predictions using the validation data\n",
    "    # What does the error look like?\n",
    "    print('RESULTS FOR '+name)  \n",
    "    print('Accuracy:', accuracy_score(y_test, y_predicted))\n",
    "    sns.heatmap(confusion_matrix(y_test, y_predicted), square=True, annot=True, fmt='d', cbar=False)\n",
    "    pl.xlabel('predicted')\n",
    "    pl.ylabel('true');\n",
    "    pl.show()\n",
    "    print('\\n clasification report:\\n', classification_report(y_test, y_predicted))\n",
    "    print('Cohen Kappa Score:', cohen_kappa_score(y_test, y_predicted))\n",
    "    print('\\n')  "
   ]
  },
  {
   "cell_type": "code",
   "execution_count": 10,
   "id": "741af3d4-cbe2-40ad-b96d-dff4cb60945e",
   "metadata": {},
   "outputs": [
    {
     "name": "stdout",
     "output_type": "stream",
     "text": [
      "Reading list of scoring methods to use during model development ...\n",
      "done \n",
      "\n"
     ]
    }
   ],
   "source": [
    "print('Reading list of scoring methods to use during model development ...')\n",
    "scoring = 'accuracy'\n",
    "print('done \\n')"
   ]
  },
  {
   "cell_type": "code",
   "execution_count": 11,
   "id": "2d3c4bf7-2311-4364-a724-1f5e144183f6",
   "metadata": {},
   "outputs": [
    {
     "name": "stdout",
     "output_type": "stream",
     "text": [
      "Reading list of algorithms to train ...\n",
      "done \n",
      "\n"
     ]
    }
   ],
   "source": [
    "seed = 42 # setting the seed allows for repeatability\n",
    "\n",
    "print('Reading list of algorithms to train ...')\n",
    "models= []\n",
    "models.append(('LR', LogisticRegression(multi_class='multinomial', class_weight=None, solver='lbfgs', max_iter=250)))\n",
    "models.append(('kNN', KNeighborsClassifier(n_neighbors=5, weights='uniform', algorithm='auto', p=2)))\n",
    "print('done \\n')"
   ]
  },
  {
   "cell_type": "code",
   "execution_count": 12,
   "id": "3421a086-ba10-4472-a891-bc1196cbbfce",
   "metadata": {},
   "outputs": [
    {
     "name": "stdout",
     "output_type": "stream",
     "text": [
      "Partitioning data into parts: formative (for development) and summative (for testing) ...\n",
      "done \n",
      "\n"
     ]
    }
   ],
   "source": [
    "# Split-out test dataset\n",
    "\n",
    "# We reset the random number seed before each run to ensure that the evaluation of each algorithm is performed using exactly the same data splits. It ensures the results are directly comparable.\n",
    "\n",
    "# Train, test split\n",
    "print('Partitioning data into parts: formative (for development) and summative (for testing) ...')\n",
    "test_size = 0.20   # means 20 percent\n",
    "\n",
    "X_train, X_test, y_train, y_test = model_selection.train_test_split(X, y, test_size=test_size, random_state=seed)\n",
    "print('done \\n')"
   ]
  },
  {
   "cell_type": "code",
   "execution_count": 13,
   "id": "2fa86ae5-13e3-4412-9052-8c42fef22a67",
   "metadata": {},
   "outputs": [
    {
     "name": "stdout",
     "output_type": "stream",
     "text": [
      " ++ NOW WORKING ON ALGORITHM LR ++\n",
      "Splitting data into 5 folds\n",
      "Training model on each split\n"
     ]
    },
    {
     "name": "stderr",
     "output_type": "stream",
     "text": [
      "/project/dsi/apps/anaconda3/python-3.7/lib/python3.7/site-packages/sklearn/linear_model/_logistic.py:940: ConvergenceWarning: lbfgs failed to converge (status=1):\n",
      "STOP: TOTAL NO. of ITERATIONS REACHED LIMIT.\n",
      "\n",
      "Increase the number of iterations (max_iter) or scale the data as shown in:\n",
      "    https://scikit-learn.org/stable/modules/preprocessing.html\n",
      "Please also refer to the documentation for alternative solver options:\n",
      "    https://scikit-learn.org/stable/modules/linear_model.html#logistic-regression\n",
      "  extra_warning_msg=_LOGISTIC_SOLVER_CONVERGENCE_MSG)\n",
      "/project/dsi/apps/anaconda3/python-3.7/lib/python3.7/site-packages/sklearn/linear_model/_logistic.py:940: ConvergenceWarning: lbfgs failed to converge (status=1):\n",
      "STOP: TOTAL NO. of ITERATIONS REACHED LIMIT.\n",
      "\n",
      "Increase the number of iterations (max_iter) or scale the data as shown in:\n",
      "    https://scikit-learn.org/stable/modules/preprocessing.html\n",
      "Please also refer to the documentation for alternative solver options:\n",
      "    https://scikit-learn.org/stable/modules/linear_model.html#logistic-regression\n",
      "  extra_warning_msg=_LOGISTIC_SOLVER_CONVERGENCE_MSG)\n",
      "/project/dsi/apps/anaconda3/python-3.7/lib/python3.7/site-packages/sklearn/linear_model/_logistic.py:940: ConvergenceWarning: lbfgs failed to converge (status=1):\n",
      "STOP: TOTAL NO. of ITERATIONS REACHED LIMIT.\n",
      "\n",
      "Increase the number of iterations (max_iter) or scale the data as shown in:\n",
      "    https://scikit-learn.org/stable/modules/preprocessing.html\n",
      "Please also refer to the documentation for alternative solver options:\n",
      "    https://scikit-learn.org/stable/modules/linear_model.html#logistic-regression\n",
      "  extra_warning_msg=_LOGISTIC_SOLVER_CONVERGENCE_MSG)\n",
      "/project/dsi/apps/anaconda3/python-3.7/lib/python3.7/site-packages/sklearn/linear_model/_logistic.py:940: ConvergenceWarning: lbfgs failed to converge (status=1):\n",
      "STOP: TOTAL NO. of ITERATIONS REACHED LIMIT.\n",
      "\n",
      "Increase the number of iterations (max_iter) or scale the data as shown in:\n",
      "    https://scikit-learn.org/stable/modules/preprocessing.html\n",
      "Please also refer to the documentation for alternative solver options:\n",
      "    https://scikit-learn.org/stable/modules/linear_model.html#logistic-regression\n",
      "  extra_warning_msg=_LOGISTIC_SOLVER_CONVERGENCE_MSG)\n",
      "/project/dsi/apps/anaconda3/python-3.7/lib/python3.7/site-packages/sklearn/linear_model/_logistic.py:940: ConvergenceWarning: lbfgs failed to converge (status=1):\n",
      "STOP: TOTAL NO. of ITERATIONS REACHED LIMIT.\n",
      "\n",
      "Increase the number of iterations (max_iter) or scale the data as shown in:\n",
      "    https://scikit-learn.org/stable/modules/preprocessing.html\n",
      "Please also refer to the documentation for alternative solver options:\n",
      "    https://scikit-learn.org/stable/modules/linear_model.html#logistic-regression\n",
      "  extra_warning_msg=_LOGISTIC_SOLVER_CONVERGENCE_MSG)\n"
     ]
    },
    {
     "name": "stdout",
     "output_type": "stream",
     "text": [
      "algorithm LR accuracy results: mean = 0.662775 (std = 0.013478)\n",
      " ++ NOW WORKING ON ALGORITHM kNN ++\n",
      "Splitting data into 5 folds\n",
      "Training model on each split\n",
      "algorithm kNN accuracy results: mean = 0.832379 (std = 0.015628)\n",
      "done \n",
      "\n"
     ]
    }
   ],
   "source": [
    "k4folds = 5\n",
    "results = []\n",
    "names = []\n",
    "for name, model in models:   # Select each model in turn\n",
    "    print(\" ++ NOW WORKING ON ALGORITHM %s ++\" % name)\n",
    "    print(\"Splitting data into %s folds\" % k4folds)\n",
    "    kfold = model_selection.KFold(n_splits=k4folds, random_state=seed, shuffle=True)\n",
    "    print(\"Training model on each split\")\n",
    "    cv_results = model_selection.cross_val_score(model, X_train, y_train, cv=kfold, scoring=scoring)\n",
    "    results.append(cv_results)\n",
    "    names.append(name)\n",
    "    msg = \"algorithm %s %s results: mean = %f (std = %f)\" % (name, scoring, cv_results.mean(), cv_results.std())\n",
    "    print(msg)\n",
    "    \n",
    "print('done \\n')"
   ]
  },
  {
   "cell_type": "code",
   "execution_count": 14,
   "id": "b15cac2b-3c92-49b3-a54f-514bc5c84c3a",
   "metadata": {},
   "outputs": [
    {
     "name": "stdout",
     "output_type": "stream",
     "text": [
      " ++++ Detailed classification report for the selected model ++++ \n",
      "Algorithm KNeighborsClassifier(algorithm='auto', leaf_size=30, metric='minkowski',\n",
      "                     metric_params=None, n_jobs=None, n_neighbors=5, p=2,\n",
      "                     weights='uniform') \n",
      "This model was trained and tuned on the development set using CV.\n",
      "The following results are computed on the separate test set:\n"
     ]
    },
    {
     "data": {
      "image/png": "[encoded data removed]",
      "text/plain": [
       "<Figure size 432x288 with 1 Axes>"
      ]
     },
     "metadata": {
      "needs_background": "light"
     },
     "output_type": "display_data"
    },
    {
     "name": "stdout",
     "output_type": "stream",
     "text": [
      "\n",
      " clasification report:\n",
      "               precision    recall  f1-score   support\n",
      "\n",
      "           1       0.76      0.80      0.78       102\n",
      "           2       0.70      0.78      0.74        27\n",
      "           3       0.83      0.86      0.85       192\n",
      "           4       0.75      0.87      0.81       200\n",
      "           5       0.94      0.87      0.90       593\n",
      "           7       0.74      0.81      0.77        21\n",
      "\n",
      "    accuracy                           0.86      1135\n",
      "   macro avg       0.79      0.83      0.81      1135\n",
      "weighted avg       0.87      0.86      0.86      1135\n",
      "\n",
      "Cohen Kappa Score: 0.7883915131036832\n",
      "\n",
      "\n",
      "done \n",
      "\n"
     ]
    }
   ],
   "source": [
    "# Make predictions on validation dataset for KNN model\n",
    "selected_model = KNeighborsClassifier()\n",
    "selected_model.fit(X_train, y_train)\n",
    "predictions = selected_model.predict(X_test)\n",
    "print(\" ++++ Detailed classification report for the selected model ++++ \" )\n",
    "print(\"Algorithm %s \" % selected_model)\n",
    "print(\"This model was trained and tuned on the development set using CV.\")\n",
    "print(\"The following results are computed on the separate test set:\")\n",
    "#\n",
    "predictions = selected_model.predict(X_test)\n",
    "cm = confusion_matrix(y_test, predictions)\n",
    "df_cm = pandas.DataFrame(cm, columns=numpy.unique(y_test), index = numpy.unique(y_test))\n",
    "sns.heatmap(df_cm, square=True, annot=True, fmt='d', cbar=False )\n",
    "pl.xlabel('predicted')\n",
    "pl.ylabel('true')\n",
    "pl.show()\n",
    "#\n",
    "print('\\n clasification report:\\n', classification_report(y_test, predictions))\n",
    "print('Cohen Kappa Score:', cohen_kappa_score(y_test, predictions))\n",
    "print('\\n')        \n",
    "print('done \\n')"
   ]
  },
  {
   "cell_type": "code",
   "execution_count": 23,
   "id": "7067b2ca-2acb-49ae-8b70-0011940eb9a6",
   "metadata": {},
   "outputs": [
    {
     "name": "stdout",
     "output_type": "stream",
     "text": [
      "          Vsl       Vsg   Ang\n",
      "4969  0.40429   0.01677 -70.0\n",
      "1071  0.63000   4.00000  -5.0\n",
      "718   4.00000   0.63000   5.0\n",
      "5650  0.41059  10.31910 -80.0\n",
      "670   0.00250   2.50000   5.0\n",
      "...       ...       ...   ...\n",
      "3772  0.10000   1.00000   5.0\n",
      "5191  0.68984   0.02148 -90.0\n",
      "5226  0.00991  38.49360  50.0\n",
      "5390  0.09809   0.03961  70.0\n",
      "860   4.00000   0.10000  -1.0\n",
      "\n",
      "[4540 rows x 3 columns] 4969    3\n",
      "1071    3\n",
      "718     5\n",
      "5650    4\n",
      "670     5\n",
      "       ..\n",
      "3772    5\n",
      "5191    5\n",
      "5226    4\n",
      "5390    5\n",
      "860     1\n",
      "Name: FlowPattern, Length: 4540, dtype: int64\n"
     ]
    },
    {
     "name": "stderr",
     "output_type": "stream",
     "text": [
      "/project/dsi/apps/anaconda3/python-3.7/lib/python3.7/site-packages/sklearn/linear_model/_logistic.py:940: ConvergenceWarning: lbfgs failed to converge (status=1):\n",
      "STOP: TOTAL NO. of ITERATIONS REACHED LIMIT.\n",
      "\n",
      "Increase the number of iterations (max_iter) or scale the data as shown in:\n",
      "    https://scikit-learn.org/stable/modules/preprocessing.html\n",
      "Please also refer to the documentation for alternative solver options:\n",
      "    https://scikit-learn.org/stable/modules/linear_model.html#logistic-regression\n",
      "  extra_warning_msg=_LOGISTIC_SOLVER_CONVERGENCE_MSG)\n"
     ]
    },
    {
     "name": "stdout",
     "output_type": "stream",
     "text": [
      " ++++ Detailed classification report for the selected model ++++ \n",
      "Algorithm KNeighborsClassifier(algorithm='auto', leaf_size=30, metric='minkowski',\n",
      "                     metric_params=None, n_jobs=None, n_neighbors=5, p=2,\n",
      "                     weights='distance') \n",
      "This model was trained and tuned on the development set using CV.\n",
      "The following results are computed on the separate test set:\n"
     ]
    },
    {
     "data": {
      "image/png": "[encoded data removed]",
      "text/plain": [
       "<Figure size 432x288 with 1 Axes>"
      ]
     },
     "metadata": {
      "needs_background": "light"
     },
     "output_type": "display_data"
    },
    {
     "name": "stdout",
     "output_type": "stream",
     "text": [
      "\n",
      " clasification report:\n",
      "               precision    recall  f1-score   support\n",
      "\n",
      "           1       0.84      0.52      0.64       102\n",
      "           2       0.00      0.00      0.00        27\n",
      "           3       0.25      0.09      0.13       192\n",
      "           4       0.67      0.69      0.68       200\n",
      "           5       0.68      0.89      0.77       593\n",
      "           7       0.60      0.43      0.50        21\n",
      "\n",
      "    accuracy                           0.66      1135\n",
      "   macro avg       0.50      0.44      0.45      1135\n",
      "weighted avg       0.60      0.66      0.61      1135\n",
      "\n",
      "Cohen Kappa Score: 0.41950113082071816\n",
      "\n",
      "\n",
      "done \n",
      "\n"
     ]
    },
    {
     "name": "stderr",
     "output_type": "stream",
     "text": [
      "/project/dsi/apps/anaconda3/python-3.7/lib/python3.7/site-packages/sklearn/metrics/_classification.py:1272: UndefinedMetricWarning: Precision and F-score are ill-defined and being set to 0.0 in labels with no predicted samples. Use `zero_division` parameter to control this behavior.\n",
      "  _warn_prf(average, modifier, msg_start, len(result))\n"
     ]
    }
   ],
   "source": [
    "# Make predictions on validation dataset for LogisticRegresssion model\n",
    "selected_model2 = LogisticRegression()\n",
    "print (X_train, y_train)\n",
    "selected_model2.fit(X_train, y_train)\n",
    "predictions = selected_model2.predict(X_test)\n",
    "print(\" ++++ Detailed classification report for the selected model ++++ \" )\n",
    "print(\"Algorithm %s \" % selected_model)\n",
    "print(\"This model was trained and tuned on the development set using CV.\")\n",
    "print(\"The following results are computed on the separate test set:\")\n",
    "#\n",
    "predictions = selected_model2.predict(X_test)\n",
    "cm = confusion_matrix(y_test, predictions)\n",
    "df_cm = pandas.DataFrame(cm, columns=numpy.unique(y_test), index = numpy.unique(y_test))\n",
    "sns.heatmap(df_cm, square=True, annot=True, fmt='d', cbar=False )\n",
    "pl.xlabel('predicted')\n",
    "pl.ylabel('true')\n",
    "pl.show()\n",
    "#\n",
    "print('\\n clasification report:\\n', classification_report(y_test, predictions))\n",
    "print('Cohen Kappa Score:', cohen_kappa_score(y_test, predictions))\n",
    "print('\\n')        \n",
    "print('done \\n')"
   ]
  },
  {
   "cell_type": "code",
   "execution_count": 26,
   "id": "a41027dc-737f-491f-8270-128bdf1129b2",
   "metadata": {},
   "outputs": [
    {
     "name": "stdout",
     "output_type": "stream",
     "text": [
      "          Vsl       Vsg   Ang\n",
      "4969  0.40429   0.01677 -70.0\n",
      "1071  0.63000   4.00000  -5.0\n",
      "718   4.00000   0.63000   5.0\n",
      "5650  0.41059  10.31910 -80.0\n",
      "670   0.00250   2.50000   5.0\n",
      "...       ...       ...   ...\n",
      "3772  0.10000   1.00000   5.0\n",
      "5191  0.68984   0.02148 -90.0\n",
      "5226  0.00991  38.49360  50.0\n",
      "5390  0.09809   0.03961  70.0\n",
      "860   4.00000   0.10000  -1.0\n",
      "\n",
      "[4540 rows x 3 columns] 4969    3\n",
      "1071    3\n",
      "718     5\n",
      "5650    4\n",
      "670     5\n",
      "       ..\n",
      "3772    5\n",
      "5191    5\n",
      "5226    4\n",
      "5390    5\n",
      "860     1\n",
      "Name: FlowPattern, Length: 4540, dtype: int64\n",
      "Best parameters set found on development set:\n",
      "{'n_neighbors': 3, 'weights': 'distance'}\n",
      "Grid scores on development set:\n",
      "0.848 (+/-0.016) for {'n_neighbors': 3, 'weights': 'uniform'}\n",
      "0.858 (+/-0.024) for {'n_neighbors': 3, 'weights': 'distance'}\n",
      "0.831 (+/-0.017) for {'n_neighbors': 4, 'weights': 'uniform'}\n",
      "0.855 (+/-0.020) for {'n_neighbors': 4, 'weights': 'distance'}\n",
      "0.839 (+/-0.009) for {'n_neighbors': 5, 'weights': 'uniform'}\n",
      "0.854 (+/-0.011) for {'n_neighbors': 5, 'weights': 'distance'}\n",
      "0.826 (+/-0.019) for {'n_neighbors': 6, 'weights': 'uniform'}\n",
      "0.849 (+/-0.013) for {'n_neighbors': 6, 'weights': 'distance'}\n",
      "\n",
      "\n",
      "Detailed classification report:\n",
      "The model is trained on the full development set.\n",
      "The scores are computed on the full test set.\n",
      "\n",
      "\n",
      "              precision    recall  f1-score   support\n",
      "\n",
      "           1       0.76      0.82      0.79       102\n",
      "           2       0.75      0.89      0.81        27\n",
      "           3       0.88      0.84      0.86       192\n",
      "           4       0.81      0.90      0.85       200\n",
      "           5       0.94      0.89      0.91       593\n",
      "           7       0.77      0.81      0.79        21\n",
      "\n",
      "    accuracy                           0.87      1135\n",
      "   macro avg       0.82      0.86      0.84      1135\n",
      "weighted avg       0.88      0.87      0.88      1135\n",
      "\n",
      "done \n",
      "\n"
     ]
    }
   ],
   "source": [
    "# We can do a similar process to chose between different hyperparameters for a model\n",
    "\n",
    "parameters = {'n_neighbors':[3, 4, 5, 6], 'weights':['uniform','distance']}\n",
    "clf = GridSearchCV(selected_model, parameters, cv=5, scoring=scoring)\n",
    "print (X_train, y_train)\n",
    "clf.fit(X_train, y_train)\n",
    "\n",
    "print(\"Best parameters set found on development set:\")\n",
    "print(clf.best_params_)\n",
    "print(\"Grid scores on development set:\")\n",
    "means = clf.cv_results_['mean_test_score']\n",
    "stds = clf.cv_results_['std_test_score']\n",
    "for mean, std, params in zip(means, stds, clf.cv_results_['params']):\n",
    "    print(\"%0.3f (+/-%0.03f) for %r\"\n",
    "        % (mean, std * 2, params))\n",
    "print('\\n')\n",
    "\n",
    "print(\"Detailed classification report:\")\n",
    "print(\"The model is trained on the full development set.\")\n",
    "print(\"The scores are computed on the full test set.\")\n",
    "print('\\n')\n",
    "y_true, y_pred = y_test, clf.predict(X_test)\n",
    "print(classification_report(y_true, y_pred))\n",
    "print('done \\n')"
   ]
  },
  {
   "cell_type": "code",
   "execution_count": 27,
   "id": "e56e0671-a98b-4fc0-ac03-66d57f44ba17",
   "metadata": {},
   "outputs": [
    {
     "name": "stdout",
     "output_type": "stream",
     "text": [
      " ++++ Detailed classification report for the selected model ++++ \n",
      "Algorithm KNeighborsClassifier(algorithm='auto', leaf_size=30, metric='minkowski',\n",
      "                     metric_params=None, n_jobs=None, n_neighbors=3, p=2,\n",
      "                     weights='distance') \n",
      "This model was trained and tuned on the development set using CV.\n",
      "The following results are computed on the separate test set:\n"
     ]
    },
    {
     "data": {
      "image/png": "[encoded data removed]",
      "text/plain": [
       "<Figure size 432x288 with 1 Axes>"
      ]
     },
     "metadata": {
      "needs_background": "light"
     },
     "output_type": "display_data"
    },
    {
     "name": "stdout",
     "output_type": "stream",
     "text": [
      "\n",
      " clasification report:\n",
      "               precision    recall  f1-score   support\n",
      "\n",
      "           1       0.76      0.82      0.79       102\n",
      "           2       0.75      0.89      0.81        27\n",
      "           3       0.88      0.84      0.86       192\n",
      "           4       0.81      0.90      0.85       200\n",
      "           5       0.94      0.89      0.91       593\n",
      "           7       0.77      0.81      0.79        21\n",
      "\n",
      "    accuracy                           0.87      1135\n",
      "   macro avg       0.82      0.86      0.84      1135\n",
      "weighted avg       0.88      0.87      0.88      1135\n",
      "\n",
      "Cohen Kappa Score: 0.81289695691998\n",
      "\n",
      "\n",
      "done \n",
      "\n"
     ]
    }
   ],
   "source": [
    "# Make predictions on validation dataset for KNN model\n",
    "selected_model = KNeighborsClassifier(n_neighbors=3, weights='distance', algorithm='auto', p=2)\n",
    "selected_model.fit(X_train, y_train)\n",
    "predictions = selected_model.predict(X_test)\n",
    "print(\" ++++ Detailed classification report for the selected model ++++ \" )\n",
    "print(\"Algorithm %s \" % selected_model)\n",
    "print(\"This model was trained and tuned on the development set using CV.\")\n",
    "print(\"The following results are computed on the separate test set:\")\n",
    "#\n",
    "predictions = selected_model.predict(X_test)\n",
    "cm = confusion_matrix(y_test, predictions)\n",
    "df_cm = pandas.DataFrame(cm, columns=numpy.unique(y_test), index = numpy.unique(y_test))\n",
    "sns.heatmap(df_cm, square=True, annot=True, fmt='d', cbar=False )\n",
    "pl.xlabel('predicted')\n",
    "pl.ylabel('true')\n",
    "pl.show()\n",
    "#\n",
    "print('\\n clasification report:\\n', classification_report(y_test, predictions))\n",
    "print('Cohen Kappa Score:', cohen_kappa_score(y_test, predictions))\n",
    "print('\\n')        \n",
    "print('done \\n')"
   ]
  },
  {
   "cell_type": "code",
   "execution_count": 28,
   "id": "cb64f14c-b157-4ee9-90b3-9bfb663d8cd4",
   "metadata": {},
   "outputs": [],
   "source": [
    "#We have seen from the confusion matrix, f1 score and cohen kappa score increases\n",
    "#for KNN model, which is the best model (better than Logstic regression modek) using \n",
    "#the best parameters (hyperparameters) from the othe models. So, it can be concluded \n",
    "#that this model is a better fit for the testing data.\n"
   ]
  },
  {
   "cell_type": "code",
   "execution_count": null,
   "id": "29fdeeff-4d43-47d3-ae8b-2fba804fa1cc",
   "metadata": {},
   "outputs": [],
   "source": []
  }
 ],
 "metadata": {
  "kernelspec": {
   "display_name": "Python 3.7",
   "language": "python",
   "name": "python3.7"
  },
  "language_info": {
   "codemirror_mode": {
    "name": "ipython",
    "version": 3
   },
   "file_extension": ".py",
   "mimetype": "text/x-python",
   "name": "python",
   "nbconvert_exporter": "python",
   "pygments_lexer": "ipython3",
   "version": "3.7.6"
  }
 },
 "nbformat": 4,
 "nbformat_minor": 5
}
